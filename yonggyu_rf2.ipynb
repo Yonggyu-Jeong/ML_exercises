{
 "cells": [
  {
   "cell_type": "code",
   "execution_count": 9,
   "id": "cdbd0897",
   "metadata": {},
   "outputs": [],
   "source": [
    "import matplotlib.pyplot as plt\n",
    "import seaborn as sns\n",
    "import pandas as pd\n",
    "import numpy as np\n",
    "#import graphviz\n",
    "import os\n",
    "\n",
    "from sklearn.model_selection import train_test_split\n",
    "from sklearn.tree import DecisionTreeClassifier\n",
    "from sklearn import tree\n",
    "from sklearn.metrics import accuracy_score\n",
    "\n",
    "from IPython.display import Image\n",
    "from matplotlib.colors import ListedColormap\n",
    "df_test = pd.read_csv(\"C:\\\\Users\\\\YongGyu\\\\OneDrive - 한국산업기술대학교\\\\문서\\카카오톡 받은 파일\\\\FordA_TEST.csv\")\n",
    "df_train = pd.read_csv(\"C:\\\\Users\\\\YongGyu\\\\OneDrive - 한국산업기술대학교\\\\문서\\카카오톡 받은 파일\\\\FordA_TRAIN.csv\")\n",
    "df = pd.read_csv(\"C:\\\\Users\\\\YongGyu\\\\OneDrive - 한국산업기술대학교\\\\문서\\카카오톡 받은 파일\\\\train_normalization.csv\")\n",
    "#df_test = pd.read_csv(\"C:\\\\Users\\\\YongGyu\\\\Downloads\\\\AI\\\\FordA_TEST.csv\")\n",
    "#df_train = pd.read_csv(\"C:\\\\Users\\\\YongGyu\\\\Downloads\\\\AI\\\\FordA_TRAIN.csv\")\n",
    "#df = pd.read_csv(\"C:\\\\Users\\\\wjddy\\\\Documents\\\\카카오톡 받은 파일\\\\train_normalization.csv\")"
   ]
  },
  {
   "cell_type": "code",
   "execution_count": 10,
   "id": "2106896f",
   "metadata": {},
   "outputs": [
    {
     "name": "stdout",
     "output_type": "stream",
     "text": [
      "(2880, 500) (2880,)\n",
      "(721, 500) (721,)\n"
     ]
    }
   ],
   "source": [
    "train_columns = df.iloc[:,1:501]\n",
    "X_train, X_test, y_train, y_test = train_test_split(train_columns, df['target'], test_size = 0.2, stratify=df['target'])\n",
    "print(X_train.shape, y_train.shape)\n",
    "print(X_test.shape, y_test.shape)"
   ]
  },
  {
   "cell_type": "code",
   "execution_count": 11,
   "id": "68c29cc1",
   "metadata": {},
   "outputs": [],
   "source": [
    "# decision tree model train\n",
    "\n",
    "df_tree = DecisionTreeClassifier(max_depth = 3)\n",
    "df_tree = df_tree.fit(X_train, y_train)\n",
    "df_prediction = df_tree.predict(X_test)\n"
   ]
  },
  {
   "cell_type": "code",
   "execution_count": 12,
   "id": "7fba374e",
   "metadata": {
    "scrolled": true
   },
   "outputs": [
    {
     "name": "stdout",
     "output_type": "stream",
     "text": [
      "예측값:  [0 0 0 0 0 0 0 0 0 0 0 0 1 0 0 0 1 0 0 0 0 0 0 1 0 0 0 0 0 0 0 1 0 0 0 0 0\n",
      " 0 1 0 0 0 0 1 0 0 0 0 0 1 0 0 0 0 0 0 1 0 0 0 1 0 0 0 0 1 0 0 0 0 0 0 0 1\n",
      " 0 0 0 0 0 0 0 0 0 0 1 0 1 0 0 0 0 0 0 0 0 0 1 0 0 0 0 0 0 0 0 0 0 0 1 0 0\n",
      " 1 0 0 1 1 0 1 0 0 0 0 0 1 0 1 0 0 0 0 0 0 0 0 0 0 0 0 0 0 1 0 0 0 0 0 0 0\n",
      " 0 1 0 0 0 0 1 0 0 1 0 0 0 0 0 0 0 1 1 0 0 0 0 0 0 1 0 0 1 0 0 0 0 0 0 0 0\n",
      " 0 0 0 0 0 0 0 0 0 0 0 0 0 0 0 0 0 0 1 0 0 0 0 0 0 0 1 0 0 0 0 0 0 0 0 1 0\n",
      " 0 1 0 0 0 0 0 0 0 0 0 0 0 1 0 0 0 0 0 0 0 0 0 0 0 0 0 0 0 0 0 0 0 0 0 0 0\n",
      " 0 0 1 1 0 0 0 0 1 0 1 0 0 0 0 0 0 0 0 0 0 0 0 0 0 0 0 1 0 0 0 1 1 0 0 0 0\n",
      " 0 0 0 1 1 0 0 1 0 0 0 0 1 0 0 0 0 1 1 0 0 0 0 0 0 1 1 0 0 0 0 0 0 0 0 0 1\n",
      " 0 0 0 1 0 1 0 0 0 0 0 1 0 0 0 0 0 0 0 0 0 0 0 0 0 0 1 0 0 0 0 0 0 0 1 0 0\n",
      " 0 0 0 1 0 0 0 1 0 0 0 0 0 0 0 0 0 0 1 0 0 0 0 1 0 0 0 0 0 1 0 0 1 0 0 0 0\n",
      " 0 0 0 0 1 0 0 0 0 0 0 0 0 0 1 0 0 0 1 0 0 0 0 0 0 0 0 0 1 0 0 0 0 0 0 0 0\n",
      " 1 0 0 0 0 0 0 0 0 0 0 0 1 0 1 0 0 0 1 0 0 0 0 0 0 0 0 0 0 0 0 0 0 0 0 0 0\n",
      " 1 0 0 0 0 0 0 1 0 0 0 1 1 0 0 0 0 0 0]\n",
      "Accuracy:0.5409\n"
     ]
    }
   ],
   "source": [
    "# decision tree predict\n",
    "\n",
    "df_tree_pred = df_tree.predict(X_test)\n",
    "print(\"예측값: \", df_tree_pred[1:501])\n",
    "\n",
    "# decision tree Accuracy\n",
    "df_tree_acc = accuracy_score(y_test, df_tree_pred)\n",
    "print(\"Accuracy:%.4f\"% df_tree_acc )"
   ]
  },
  {
   "cell_type": "code",
   "execution_count": 13,
   "id": "2f792269",
   "metadata": {},
   "outputs": [],
   "source": [
    "# decision tree visualization\n",
    "ft_names = df.columns.tolist()\n",
    "ft_names = ft_names[1:501]\n",
    "target_name = np.array(['0','1'])\n"
   ]
  },
  {
   "cell_type": "code",
   "execution_count": 14,
   "id": "6116a7d7",
   "metadata": {},
   "outputs": [
    {
     "ename": "NameError",
     "evalue": "name 'pydotplus' is not defined",
     "output_type": "error",
     "traceback": [
      "\u001b[1;31m---------------------------------------------------------------------------\u001b[0m",
      "\u001b[1;31mNameError\u001b[0m                                 Traceback (most recent call last)",
      "\u001b[1;32m~\\AppData\\Local\\Temp/ipykernel_16408/3275153897.py\u001b[0m in \u001b[0;36m<module>\u001b[1;34m\u001b[0m\n\u001b[0;32m      1\u001b[0m \u001b[0mdf_tree_dt\u001b[0m \u001b[1;33m=\u001b[0m \u001b[0mtree\u001b[0m\u001b[1;33m.\u001b[0m\u001b[0mexport_graphviz\u001b[0m\u001b[1;33m(\u001b[0m\u001b[0mdf_tree\u001b[0m\u001b[1;33m,\u001b[0m \u001b[0mfeature_names\u001b[0m\u001b[1;33m=\u001b[0m\u001b[0mft_names\u001b[0m\u001b[1;33m,\u001b[0m\u001b[0mclass_names\u001b[0m\u001b[1;33m=\u001b[0m\u001b[0mtarget_name\u001b[0m\u001b[1;33m,\u001b[0m \u001b[0mfilled\u001b[0m\u001b[1;33m=\u001b[0m\u001b[1;32mTrue\u001b[0m\u001b[1;33m,\u001b[0m \u001b[0mrounded\u001b[0m\u001b[1;33m=\u001b[0m\u001b[1;32mTrue\u001b[0m\u001b[1;33m,\u001b[0m \u001b[0mspecial_characters\u001b[0m\u001b[1;33m=\u001b[0m\u001b[1;32mTrue\u001b[0m\u001b[1;33m)\u001b[0m\u001b[1;33m\u001b[0m\u001b[1;33m\u001b[0m\u001b[0m\n\u001b[1;32m----> 2\u001b[1;33m \u001b[0mdf_tree_graph\u001b[0m \u001b[1;33m=\u001b[0m \u001b[0mpydotplus\u001b[0m\u001b[1;33m.\u001b[0m\u001b[0mgraph_from_dot_data\u001b[0m\u001b[1;33m(\u001b[0m\u001b[0mdf_tree_dt\u001b[0m\u001b[1;33m)\u001b[0m\u001b[1;33m\u001b[0m\u001b[1;33m\u001b[0m\u001b[0m\n\u001b[0m\u001b[0;32m      3\u001b[0m \u001b[0mImage\u001b[0m\u001b[1;33m(\u001b[0m\u001b[0mdf_tree_graph\u001b[0m\u001b[1;33m.\u001b[0m\u001b[0mcreate_png\u001b[0m\u001b[1;33m(\u001b[0m\u001b[1;33m)\u001b[0m\u001b[1;33m)\u001b[0m\u001b[1;33m\u001b[0m\u001b[1;33m\u001b[0m\u001b[0m\n",
      "\u001b[1;31mNameError\u001b[0m: name 'pydotplus' is not defined"
     ]
    }
   ],
   "source": [
    "df_tree_dt = tree.export_graphviz(df_tree, feature_names=ft_names,class_names=target_name, filled=True, rounded=True, special_characters=True)\n",
    "df_tree_graph = pydotplus.graph_from_dot_data(df_tree_dt)\n",
    "Image(df_tree_graph.create_png())\n"
   ]
  },
  {
   "cell_type": "code",
   "execution_count": 15,
   "id": "a9b47e12",
   "metadata": {},
   "outputs": [
    {
     "name": "stdout",
     "output_type": "stream",
     "text": [
      "Model accuracy score with 1 decision-trees : 0.5409\n",
      "              precision    recall  f1-score   support\n",
      "\n",
      "           0       0.53      0.89      0.66       370\n",
      "           1       0.60      0.18      0.27       351\n",
      "\n",
      "    accuracy                           0.54       721\n",
      "   macro avg       0.56      0.53      0.47       721\n",
      "weighted avg       0.56      0.54      0.47       721\n",
      "\n"
     ]
    }
   ],
   "source": [
    "from sklearn.metrics import classification_report\n",
    "from sklearn.metrics import roc_curve\n",
    "print('Model accuracy score with 1 decision-trees : {0:0.4f}'. format(accuracy_score(y_test, df_tree_pred)))\n",
    "print(classification_report(y_test, df_tree_pred))"
   ]
  },
  {
   "cell_type": "code",
   "execution_count": null,
   "id": "4ea00085",
   "metadata": {},
   "outputs": [],
   "source": [
    "#df_true = np.where(df_tree_pred == 'OK', 1, 0)\n",
    "df_true = df_tree_pred\n",
    "#y_true = np.where(y_test == 'OK', 1, 0)\n",
    "y_true = y_test"
   ]
  },
  {
   "cell_type": "code",
   "execution_count": null,
   "id": "5310ef4c",
   "metadata": {},
   "outputs": [],
   "source": [
    "from sklearn.metrics import roc_curve, roc_auc_score\n",
    "\n",
    "fpr, tpr, thresholds = roc_curve(y_true, df_true)\n",
    "\n",
    "print(fpr, tpr)\n",
    "plt.figure(figsize=(10,8))\n",
    "\n",
    "# 대각선\n",
    "plt.plot([0,1],[0,1],label='STR')\n",
    "\n",
    "# ROC\n",
    "plt.plot(fpr,tpr,label='ROC')\n",
    "\n",
    "plt.xlabel('FPR')\n",
    "\n",
    "plt.ylabel('TPR')\n",
    "\n",
    "plt.legend()\n",
    "\n",
    "plt.grid()\n",
    "\n",
    "plt.show()\n",
    "\n",
    "print('roc auc value {}'.format(roc_auc_score(y_test,df_true)))"
   ]
  },
  {
   "cell_type": "code",
   "execution_count": null,
   "id": "3087e3a5",
   "metadata": {},
   "outputs": [],
   "source": [
    "from sklearn.ensemble import RandomForestClassifier\n"
   ]
  },
  {
   "cell_type": "code",
   "execution_count": 16,
   "id": "90d737ce",
   "metadata": {},
   "outputs": [
    {
     "ename": "NameError",
     "evalue": "name 'RandomForestClassifier' is not defined",
     "output_type": "error",
     "traceback": [
      "\u001b[1;31m---------------------------------------------------------------------------\u001b[0m",
      "\u001b[1;31mNameError\u001b[0m                                 Traceback (most recent call last)",
      "\u001b[1;32m~\\AppData\\Local\\Temp/ipykernel_16408/2952119395.py\u001b[0m in \u001b[0;36m<module>\u001b[1;34m\u001b[0m\n\u001b[1;32m----> 1\u001b[1;33m \u001b[0mrfc\u001b[0m \u001b[1;33m=\u001b[0m \u001b[0mRandomForestClassifier\u001b[0m\u001b[1;33m(\u001b[0m\u001b[0mn_estimators\u001b[0m\u001b[1;33m=\u001b[0m\u001b[1;36m10\u001b[0m\u001b[1;33m,\u001b[0m \u001b[0moob_score\u001b[0m\u001b[1;33m=\u001b[0m\u001b[1;32mTrue\u001b[0m\u001b[1;33m,\u001b[0m \u001b[0mrandom_state\u001b[0m\u001b[1;33m=\u001b[0m\u001b[1;36m1000\u001b[0m\u001b[1;33m)\u001b[0m\u001b[1;33m\u001b[0m\u001b[1;33m\u001b[0m\u001b[0m\n\u001b[0m\u001b[0;32m      2\u001b[0m \u001b[0mrfc\u001b[0m\u001b[1;33m.\u001b[0m\u001b[0mfit\u001b[0m\u001b[1;33m(\u001b[0m\u001b[0mX_train\u001b[0m\u001b[1;33m,\u001b[0m \u001b[0my_train\u001b[0m\u001b[1;33m)\u001b[0m\u001b[1;33m\u001b[0m\u001b[1;33m\u001b[0m\u001b[0m\n\u001b[0;32m      3\u001b[0m \u001b[0my_pred\u001b[0m \u001b[1;33m=\u001b[0m \u001b[0mrfc\u001b[0m\u001b[1;33m.\u001b[0m\u001b[0mpredict\u001b[0m\u001b[1;33m(\u001b[0m\u001b[0mX_test\u001b[0m\u001b[1;33m)\u001b[0m\u001b[1;33m\u001b[0m\u001b[1;33m\u001b[0m\u001b[0m\n\u001b[0;32m      4\u001b[0m \u001b[0mprint\u001b[0m\u001b[1;33m(\u001b[0m\u001b[1;34m'Model accuracy score with 10 decision-trees : {0:0.4f}'\u001b[0m\u001b[1;33m.\u001b[0m \u001b[0mformat\u001b[0m\u001b[1;33m(\u001b[0m\u001b[0maccuracy_score\u001b[0m\u001b[1;33m(\u001b[0m\u001b[0my_test\u001b[0m\u001b[1;33m,\u001b[0m \u001b[0my_pred\u001b[0m\u001b[1;33m)\u001b[0m\u001b[1;33m)\u001b[0m\u001b[1;33m)\u001b[0m\u001b[1;33m\u001b[0m\u001b[1;33m\u001b[0m\u001b[0m\n\u001b[0;32m      5\u001b[0m \u001b[0mprint\u001b[0m\u001b[1;33m(\u001b[0m\u001b[0mclassification_report\u001b[0m\u001b[1;33m(\u001b[0m\u001b[0my_test\u001b[0m\u001b[1;33m,\u001b[0m \u001b[0my_pred\u001b[0m\u001b[1;33m)\u001b[0m\u001b[1;33m)\u001b[0m\u001b[1;33m\u001b[0m\u001b[1;33m\u001b[0m\u001b[0m\n",
      "\u001b[1;31mNameError\u001b[0m: name 'RandomForestClassifier' is not defined"
     ]
    }
   ],
   "source": [
    "rfc = RandomForestClassifier(n_estimators=10, oob_score=True, random_state=1000)\n",
    "rfc.fit(X_train, y_train)\n",
    "y_pred = rfc.predict(X_test)\n",
    "print('Model accuracy score with 10 decision-trees : {0:0.4f}'. format(accuracy_score(y_test, y_pred)))\n",
    "print(classification_report(y_test, y_pred))\n"
   ]
  },
  {
   "cell_type": "code",
   "execution_count": null,
   "id": "2b176ef0",
   "metadata": {},
   "outputs": [],
   "source": [
    "df_true = np.where(y_pred == 'OK', 1, 0)\n",
    "df_true\n",
    "y_true = np.where(y_test == 'OK', 1, 0)\n",
    "y_true\n",
    "\n",
    "fpr, tpr, thresholds = roc_curve(y_true, df_true)\n",
    "\n",
    "print(fpr, tpr)\n",
    "plt.figure(figsize=(10,8))\n",
    "\n",
    "# 대각선\n",
    "plt.plot([0,1],[0,1],label='STR')\n",
    "\n",
    "# ROC\n",
    "plt.plot(fpr,tpr,label='ROC')\n",
    "\n",
    "plt.xlabel('FPR')\n",
    "\n",
    "plt.ylabel('TPR')\n",
    "\n",
    "plt.legend()\n",
    "\n",
    "plt.grid()\n",
    "\n",
    "plt.show()\n",
    "\n",
    "print('roc auc value {}'.format(roc_auc_score(y_test,df_true)))"
   ]
  },
  {
   "cell_type": "code",
   "execution_count": null,
   "id": "65185b90",
   "metadata": {},
   "outputs": [],
   "source": [
    "X_data = df.loc[:,'MIXA_PASTEUR_STATE':'MIXB_PASTEUR_TEMP']\n",
    "y_data = df.loc[:,'INSP']\n",
    "\n",
    "from sklearn.model_selection import KFold\n",
    "from sklearn.model_selection import cross_val_score\n",
    "\n",
    "X = np.array(X_data)\n",
    "y = y_data\n",
    "\n",
    "# split 개수, 셔플 여부 및 seed 설정\n",
    "kf = KFold(n_splits = 10, shuffle = True, random_state = 42)\n",
    "\n",
    "# split 개수 스텝 만큼 train, test 데이터셋을 매번 분할\n",
    "\n",
    "accuracy_history = []\n",
    "\n",
    "# K-fold 검증 과정으로 실제 랜덤 포레스트 모델을 학습하여 정확도 평균\n",
    "for train_index, test_index in kf.split(X):\n",
    "\n",
    "    X_train, X_test = X[train_index], X[test_index]\n",
    "    y_train, y_test = y[train_index], y[test_index]\n",
    "\n",
    "    rfc = RandomForestClassifier(n_estimators=10, random_state=42)\n",
    "    rfc.fit(X_train, y_train)\n",
    "\n",
    "    y_pred = rfc.predict(X_test) # 예측 라벨\n",
    "    accuracy_history.append(accuracy_score(y_test, y_pred)) # 정확도 측정 및 기록\n",
    "\n",
    "print(\"각 분할의 정확도 기록 :\", accuracy_history)\n",
    "print(\"평균 정확도 :\", np.mean(accuracy_history))"
   ]
  },
  {
   "cell_type": "code",
   "execution_count": null,
   "id": "da7600da",
   "metadata": {},
   "outputs": [],
   "source": [
    "from sklearn.metrics import confusion_matrix\n",
    "confusion_matrix(y_true, df_true)"
   ]
  },
  {
   "cell_type": "code",
   "execution_count": null,
   "id": "c814eac8",
   "metadata": {},
   "outputs": [],
   "source": []
  },
  {
   "cell_type": "code",
   "execution_count": null,
   "id": "30abfe62",
   "metadata": {},
   "outputs": [],
   "source": []
  },
  {
   "cell_type": "code",
   "execution_count": null,
   "id": "733e7451",
   "metadata": {},
   "outputs": [],
   "source": []
  }
 ],
 "metadata": {
  "kernelspec": {
   "display_name": "Python 3 (ipykernel)",
   "language": "python",
   "name": "python3"
  },
  "language_info": {
   "codemirror_mode": {
    "name": "ipython",
    "version": 3
   },
   "file_extension": ".py",
   "mimetype": "text/x-python",
   "name": "python",
   "nbconvert_exporter": "python",
   "pygments_lexer": "ipython3",
   "version": "3.9.7"
  }
 },
 "nbformat": 4,
 "nbformat_minor": 5
}
