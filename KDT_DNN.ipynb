{
 "cells": [
  {
   "cell_type": "code",
   "execution_count": 18,
   "metadata": {
    "executionInfo": {
     "elapsed": 493,
     "status": "ok",
     "timestamp": 1672358558901,
     "user": {
      "displayName": "CCeN (CCen)",
      "userId": "10674476763074498382"
     },
     "user_tz": -540
    },
    "id": "fGBIHZs6Kgt0"
   },
   "outputs": [],
   "source": [
    "import numpy as np\n",
    "import pandas as pd\n",
    "import tensorflow as tf\n",
    "import matplotlib.pyplot as plt\n",
    "%matplotlib inline\n",
    "from tensorflow.keras.models import Sequential\n",
    "from tensorflow.keras.layers import Dense, Dropout\n",
    "from tensorflow.keras.optimizers import RMSprop, SGD\n",
    "from sklearn.metrics import *\n",
    "from sklearn.model_selection import train_test_split"
   ]
  },
  {
   "cell_type": "code",
   "execution_count": 11,
   "metadata": {
    "executionInfo": {
     "elapsed": 461,
     "status": "ok",
     "timestamp": 1672358118959,
     "user": {
      "displayName": "CCeN (CCen)",
      "userId": "10674476763074498382"
     },
     "user_tz": -540
    },
    "id": "-RXsBQ7m9IMx"
   },
   "outputs": [],
   "source": [
    "df = pd.read_csv(\"/pasteurizer_3.csv\") "
   ]
  },
  {
   "cell_type": "code",
   "execution_count": 12,
   "metadata": {
    "colab": {
     "base_uri": "https://localhost:8080/"
    },
    "executionInfo": {
     "elapsed": 3,
     "status": "ok",
     "timestamp": 1672358121114,
     "user": {
      "displayName": "CCeN (CCen)",
      "userId": "10674476763074498382"
     },
     "user_tz": -540
    },
    "id": "KjJBHPMh9NND",
    "outputId": "b1a840ed-a76b-43a1-e52f-6f83c8fb3008"
   },
   "outputs": [
    {
     "name": "stdout",
     "output_type": "stream",
     "text": [
      "INDEX                 86092\n",
      "STD_DT                86091\n",
      "MIXA_PASTEUR_STATE     5339\n",
      "MIXB_PASTEUR_STATE     5612\n",
      "MIXA_PASTEUR_TEMP     86091\n",
      "MIXB_PASTEUR_TEMP     86091\n",
      "INSP                  86091\n",
      "dtype: int64\n",
      "[A] \n",
      " 0.0    2776\n",
      "1.0    2563\n",
      "Name: MIXA_PASTEUR_STATE, dtype: int64\n",
      "[B] \n",
      " 1.0    2834\n",
      "0.0    2778\n",
      "Name: MIXB_PASTEUR_STATE, dtype: int64\n"
     ]
    }
   ],
   "source": [
    "print(df.count())\n",
    "print('[A] \\n', df['MIXA_PASTEUR_STATE'].value_counts())\n",
    "print('[B] \\n', df['MIXB_PASTEUR_STATE'].value_counts())\n"
   ]
  },
  {
   "cell_type": "code",
   "execution_count": 13,
   "metadata": {
    "colab": {
     "base_uri": "https://localhost:8080/",
     "height": 424
    },
    "executionInfo": {
     "elapsed": 479,
     "status": "ok",
     "timestamp": 1672358125654,
     "user": {
      "displayName": "CCeN (CCen)",
      "userId": "10674476763074498382"
     },
     "user_tz": -540
    },
    "id": "4t98xhPzS8PM",
    "outputId": "f9ef8f6f-3b1e-4aaf-b311-447ae84b4680"
   },
   "outputs": [
    {
     "data": {
      "text/html": [
       "\n",
       "  <div id=\"df-a72ad072-ebb2-4198-b7f6-c19c2966d690\">\n",
       "    <div class=\"colab-df-container\">\n",
       "      <div>\n",
       "<style scoped>\n",
       "    .dataframe tbody tr th:only-of-type {\n",
       "        vertical-align: middle;\n",
       "    }\n",
       "\n",
       "    .dataframe tbody tr th {\n",
       "        vertical-align: top;\n",
       "    }\n",
       "\n",
       "    .dataframe thead th {\n",
       "        text-align: right;\n",
       "    }\n",
       "</style>\n",
       "<table border=\"1\" class=\"dataframe\">\n",
       "  <thead>\n",
       "    <tr style=\"text-align: right;\">\n",
       "      <th></th>\n",
       "      <th>INDEX</th>\n",
       "      <th>STD_DT</th>\n",
       "      <th>MIXA_PASTEUR_STATE</th>\n",
       "      <th>MIXB_PASTEUR_STATE</th>\n",
       "      <th>MIXA_PASTEUR_TEMP</th>\n",
       "      <th>MIXB_PASTEUR_TEMP</th>\n",
       "      <th>INSP</th>\n",
       "    </tr>\n",
       "  </thead>\n",
       "  <tbody>\n",
       "    <tr>\n",
       "      <th>0</th>\n",
       "      <td>0</td>\n",
       "      <td>2020-03-04 6:00</td>\n",
       "      <td>1.0</td>\n",
       "      <td>1.0</td>\n",
       "      <td>551.0</td>\n",
       "      <td>524.0</td>\n",
       "      <td>1.0</td>\n",
       "    </tr>\n",
       "    <tr>\n",
       "      <th>1</th>\n",
       "      <td>1</td>\n",
       "      <td>2020-03-04 6:30</td>\n",
       "      <td>1.0</td>\n",
       "      <td>1.0</td>\n",
       "      <td>584.0</td>\n",
       "      <td>536.0</td>\n",
       "      <td>1.0</td>\n",
       "    </tr>\n",
       "    <tr>\n",
       "      <th>2</th>\n",
       "      <td>2</td>\n",
       "      <td>2020-03-04 7:00</td>\n",
       "      <td>1.0</td>\n",
       "      <td>1.0</td>\n",
       "      <td>584.0</td>\n",
       "      <td>536.0</td>\n",
       "      <td>1.0</td>\n",
       "    </tr>\n",
       "    <tr>\n",
       "      <th>3</th>\n",
       "      <td>3</td>\n",
       "      <td>2020-03-04 7:30</td>\n",
       "      <td>1.0</td>\n",
       "      <td>1.0</td>\n",
       "      <td>585.0</td>\n",
       "      <td>536.0</td>\n",
       "      <td>1.0</td>\n",
       "    </tr>\n",
       "    <tr>\n",
       "      <th>4</th>\n",
       "      <td>4</td>\n",
       "      <td>2020-03-04 8:00</td>\n",
       "      <td>1.0</td>\n",
       "      <td>1.0</td>\n",
       "      <td>585.0</td>\n",
       "      <td>536.0</td>\n",
       "      <td>1.0</td>\n",
       "    </tr>\n",
       "    <tr>\n",
       "      <th>...</th>\n",
       "      <td>...</td>\n",
       "      <td>...</td>\n",
       "      <td>...</td>\n",
       "      <td>...</td>\n",
       "      <td>...</td>\n",
       "      <td>...</td>\n",
       "      <td>...</td>\n",
       "    </tr>\n",
       "    <tr>\n",
       "      <th>85954</th>\n",
       "      <td>85954</td>\n",
       "      <td>2020-06-22 8:00</td>\n",
       "      <td>1.0</td>\n",
       "      <td>1.0</td>\n",
       "      <td>656.0</td>\n",
       "      <td>658.0</td>\n",
       "      <td>0.0</td>\n",
       "    </tr>\n",
       "    <tr>\n",
       "      <th>85985</th>\n",
       "      <td>85985</td>\n",
       "      <td>2020-06-22 8:30</td>\n",
       "      <td>1.0</td>\n",
       "      <td>1.0</td>\n",
       "      <td>651.0</td>\n",
       "      <td>655.0</td>\n",
       "      <td>0.0</td>\n",
       "    </tr>\n",
       "    <tr>\n",
       "      <th>86016</th>\n",
       "      <td>86016</td>\n",
       "      <td>2020-06-22 9:00</td>\n",
       "      <td>1.0</td>\n",
       "      <td>1.0</td>\n",
       "      <td>636.0</td>\n",
       "      <td>641.0</td>\n",
       "      <td>0.0</td>\n",
       "    </tr>\n",
       "    <tr>\n",
       "      <th>86047</th>\n",
       "      <td>86047</td>\n",
       "      <td>2020-06-22 9:30</td>\n",
       "      <td>1.0</td>\n",
       "      <td>1.0</td>\n",
       "      <td>610.0</td>\n",
       "      <td>616.0</td>\n",
       "      <td>0.0</td>\n",
       "    </tr>\n",
       "    <tr>\n",
       "      <th>86078</th>\n",
       "      <td>86078</td>\n",
       "      <td>2020-06-22 10:00</td>\n",
       "      <td>1.0</td>\n",
       "      <td>1.0</td>\n",
       "      <td>596.0</td>\n",
       "      <td>604.0</td>\n",
       "      <td>1.0</td>\n",
       "    </tr>\n",
       "  </tbody>\n",
       "</table>\n",
       "<p>5328 rows × 7 columns</p>\n",
       "</div>\n",
       "      <button class=\"colab-df-convert\" onclick=\"convertToInteractive('df-a72ad072-ebb2-4198-b7f6-c19c2966d690')\"\n",
       "              title=\"Convert this dataframe to an interactive table.\"\n",
       "              style=\"display:none;\">\n",
       "        \n",
       "  <svg xmlns=\"http://www.w3.org/2000/svg\" height=\"24px\"viewBox=\"0 0 24 24\"\n",
       "       width=\"24px\">\n",
       "    <path d=\"M0 0h24v24H0V0z\" fill=\"none\"/>\n",
       "    <path d=\"M18.56 5.44l.94 2.06.94-2.06 2.06-.94-2.06-.94-.94-2.06-.94 2.06-2.06.94zm-11 1L8.5 8.5l.94-2.06 2.06-.94-2.06-.94L8.5 2.5l-.94 2.06-2.06.94zm10 10l.94 2.06.94-2.06 2.06-.94-2.06-.94-.94-2.06-.94 2.06-2.06.94z\"/><path d=\"M17.41 7.96l-1.37-1.37c-.4-.4-.92-.59-1.43-.59-.52 0-1.04.2-1.43.59L10.3 9.45l-7.72 7.72c-.78.78-.78 2.05 0 2.83L4 21.41c.39.39.9.59 1.41.59.51 0 1.02-.2 1.41-.59l7.78-7.78 2.81-2.81c.8-.78.8-2.07 0-2.86zM5.41 20L4 18.59l7.72-7.72 1.47 1.35L5.41 20z\"/>\n",
       "  </svg>\n",
       "      </button>\n",
       "      \n",
       "  <style>\n",
       "    .colab-df-container {\n",
       "      display:flex;\n",
       "      flex-wrap:wrap;\n",
       "      gap: 12px;\n",
       "    }\n",
       "\n",
       "    .colab-df-convert {\n",
       "      background-color: #E8F0FE;\n",
       "      border: none;\n",
       "      border-radius: 50%;\n",
       "      cursor: pointer;\n",
       "      display: none;\n",
       "      fill: #1967D2;\n",
       "      height: 32px;\n",
       "      padding: 0 0 0 0;\n",
       "      width: 32px;\n",
       "    }\n",
       "\n",
       "    .colab-df-convert:hover {\n",
       "      background-color: #E2EBFA;\n",
       "      box-shadow: 0px 1px 2px rgba(60, 64, 67, 0.3), 0px 1px 3px 1px rgba(60, 64, 67, 0.15);\n",
       "      fill: #174EA6;\n",
       "    }\n",
       "\n",
       "    [theme=dark] .colab-df-convert {\n",
       "      background-color: #3B4455;\n",
       "      fill: #D2E3FC;\n",
       "    }\n",
       "\n",
       "    [theme=dark] .colab-df-convert:hover {\n",
       "      background-color: #434B5C;\n",
       "      box-shadow: 0px 1px 3px 1px rgba(0, 0, 0, 0.15);\n",
       "      filter: drop-shadow(0px 1px 2px rgba(0, 0, 0, 0.3));\n",
       "      fill: #FFFFFF;\n",
       "    }\n",
       "  </style>\n",
       "\n",
       "      <script>\n",
       "        const buttonEl =\n",
       "          document.querySelector('#df-a72ad072-ebb2-4198-b7f6-c19c2966d690 button.colab-df-convert');\n",
       "        buttonEl.style.display =\n",
       "          google.colab.kernel.accessAllowed ? 'block' : 'none';\n",
       "\n",
       "        async function convertToInteractive(key) {\n",
       "          const element = document.querySelector('#df-a72ad072-ebb2-4198-b7f6-c19c2966d690');\n",
       "          const dataTable =\n",
       "            await google.colab.kernel.invokeFunction('convertToInteractive',\n",
       "                                                     [key], {});\n",
       "          if (!dataTable) return;\n",
       "\n",
       "          const docLinkHtml = 'Like what you see? Visit the ' +\n",
       "            '<a target=\"_blank\" href=https://colab.research.google.com/notebooks/data_table.ipynb>data table notebook</a>'\n",
       "            + ' to learn more about interactive tables.';\n",
       "          element.innerHTML = '';\n",
       "          dataTable['output_type'] = 'display_data';\n",
       "          await google.colab.output.renderOutput(dataTable, element);\n",
       "          const docLink = document.createElement('div');\n",
       "          docLink.innerHTML = docLinkHtml;\n",
       "          element.appendChild(docLink);\n",
       "        }\n",
       "      </script>\n",
       "    </div>\n",
       "  </div>\n",
       "  "
      ],
      "text/plain": [
       "       INDEX            STD_DT  MIXA_PASTEUR_STATE  MIXB_PASTEUR_STATE  \\\n",
       "0          0   2020-03-04 6:00                 1.0                 1.0   \n",
       "1          1   2020-03-04 6:30                 1.0                 1.0   \n",
       "2          2   2020-03-04 7:00                 1.0                 1.0   \n",
       "3          3   2020-03-04 7:30                 1.0                 1.0   \n",
       "4          4   2020-03-04 8:00                 1.0                 1.0   \n",
       "...      ...               ...                 ...                 ...   \n",
       "85954  85954   2020-06-22 8:00                 1.0                 1.0   \n",
       "85985  85985   2020-06-22 8:30                 1.0                 1.0   \n",
       "86016  86016   2020-06-22 9:00                 1.0                 1.0   \n",
       "86047  86047   2020-06-22 9:30                 1.0                 1.0   \n",
       "86078  86078  2020-06-22 10:00                 1.0                 1.0   \n",
       "\n",
       "       MIXA_PASTEUR_TEMP  MIXB_PASTEUR_TEMP  INSP  \n",
       "0                  551.0              524.0   1.0  \n",
       "1                  584.0              536.0   1.0  \n",
       "2                  584.0              536.0   1.0  \n",
       "3                  585.0              536.0   1.0  \n",
       "4                  585.0              536.0   1.0  \n",
       "...                  ...                ...   ...  \n",
       "85954              656.0              658.0   0.0  \n",
       "85985              651.0              655.0   0.0  \n",
       "86016              636.0              641.0   0.0  \n",
       "86047              610.0              616.0   0.0  \n",
       "86078              596.0              604.0   1.0  \n",
       "\n",
       "[5328 rows x 7 columns]"
      ]
     },
     "execution_count": 13,
     "metadata": {},
     "output_type": "execute_result"
    }
   ],
   "source": [
    "df[df.isnull().any(axis=1)]\n",
    "\n",
    "# 인덱스 재정렬(컬럼:1, 행:0)\n",
    "df.reset_index(drop=True, inplace=True)\n",
    "\n",
    "df = df.dropna()\n",
    "df"
   ]
  },
  {
   "cell_type": "code",
   "execution_count": 10,
   "metadata": {
    "colab": {
     "base_uri": "https://localhost:8080/",
     "height": 174
    },
    "executionInfo": {
     "elapsed": 466,
     "status": "error",
     "timestamp": 1672358026377,
     "user": {
      "displayName": "CCeN (CCen)",
      "userId": "10674476763074498382"
     },
     "user_tz": -540
    },
    "id": "D8RxJJgkTH7t",
    "outputId": "40836ddc-cb1b-4d26-f133-70de517c20e3"
   },
   "outputs": [
    {
     "ename": "ValueError",
     "evalue": "ignored",
     "output_type": "error",
     "traceback": [
      "\u001b[0;31m---------------------------------------------------------------------------\u001b[0m",
      "\u001b[0;31mValueError\u001b[0m                                Traceback (most recent call last)",
      "\u001b[0;32m<ipython-input-10-79dabef5f2e9>\u001b[0m in \u001b[0;36m<module>\u001b[0;34m\u001b[0m\n\u001b[0;32m----> 1\u001b[0;31m \u001b[0mX_train\u001b[0m\u001b[0;34m,\u001b[0m \u001b[0mX_test\u001b[0m\u001b[0;34m,\u001b[0m \u001b[0my_test\u001b[0m\u001b[0;34m,\u001b[0m \u001b[0my_test\u001b[0m \u001b[0;34m=\u001b[0m \u001b[0mtrain_test_split\u001b[0m\u001b[0;34m(\u001b[0m\u001b[0mdf\u001b[0m\u001b[0;34m,\u001b[0m \u001b[0mtest_size\u001b[0m\u001b[0;34m=\u001b[0m\u001b[0;36m0.3\u001b[0m\u001b[0;34m,\u001b[0m \u001b[0mrandom_state\u001b[0m\u001b[0;34m=\u001b[0m\u001b[0;36m121\u001b[0m\u001b[0;34m)\u001b[0m\u001b[0;34m\u001b[0m\u001b[0;34m\u001b[0m\u001b[0m\n\u001b[0m",
      "\u001b[0;31mValueError\u001b[0m: not enough values to unpack (expected 4, got 2)"
     ]
    }
   ],
   "source": [
    "X_train, X_test, y_test, y_test = train_test_split(df, test_size=0.3, random_state=121)"
   ]
  },
  {
   "cell_type": "code",
   "execution_count": null,
   "metadata": {
    "colab": {
     "base_uri": "https://localhost:8080/"
    },
    "id": "Vsv6J_1y9aKe",
    "outputId": "4fe944f0-2dcb-49aa-b3f2-ca7362e51624"
   },
   "outputs": [
    {
     "name": "stdout",
     "output_type": "stream",
     "text": [
      "(134908, 4) (134908, 1)\n",
      "(42158, 4) (42158, 1)\n"
     ]
    }
   ],
   "source": [
    "# train data랑 test 데이터 나눔\n",
    "x_train = df.iloc[:134908, 1:5].values\n",
    "y_train = df.iloc[:134908, [-1]].values\n",
    "x_train = np.array(x_train, dtype=np.float32)\n",
    "y_train = np.array(y_train, dtype=np.float32)\n",
    "\n",
    "# train과 test를 8:2 로 나눠서 진행하였는데 모델 과적합이 나와서\n",
    "# 과적합 잡으려고 validation 값 6:2:2\n",
    "x_val = df.iloc[134909:168635, 1:5].values\n",
    "y_val = df.iloc[134909:168635, [-1]].values\n",
    "print(x_train.shape, y_train.shape)\n",
    "\n",
    "x_test = df.iloc[168636:, 1:5].values  \n",
    "y_test = df.iloc[168636:, [-1]].values\n",
    "x_test = np.array(x_test, dtype=np.float32)\n",
    "y_test = np.array(y_test, dtype=np.float32)\n",
    "\n",
    "print(x_test.shape, y_test.shape)\n"
   ]
  },
  {
   "cell_type": "code",
   "execution_count": null,
   "metadata": {
    "colab": {
     "base_uri": "https://localhost:8080/"
    },
    "id": "GhEEj-EG_uHW",
    "outputId": "d13d0a84-ff59-4e76-d81d-dfab57e78cd1"
   },
   "outputs": [
    {
     "data": {
      "text/plain": [
       "4"
      ]
     },
     "execution_count": 22,
     "metadata": {},
     "output_type": "execute_result"
    }
   ],
   "source": [
    "x_train.shape[1]"
   ]
  },
  {
   "cell_type": "code",
   "execution_count": null,
   "metadata": {
    "colab": {
     "base_uri": "https://localhost:8080/"
    },
    "id": "UCnc1CpCAKz6",
    "outputId": "7c0997a4-dc96-4189-b420-af424927d07e"
   },
   "outputs": [
    {
     "data": {
      "text/plain": [
       "168635"
      ]
     },
     "execution_count": 24,
     "metadata": {},
     "output_type": "execute_result"
    }
   ],
   "source": [
    "len(x_train)"
   ]
  },
  {
   "cell_type": "code",
   "execution_count": null,
   "metadata": {
    "colab": {
     "base_uri": "https://localhost:8080/"
    },
    "id": "NdYI-vK19aP6",
    "outputId": "a05ee4f4-52c7-4036-91e7-636b90b51254"
   },
   "outputs": [
    {
     "name": "stdout",
     "output_type": "stream",
     "text": [
      "1 4\n"
     ]
    }
   ],
   "source": [
    "# dataset parameters.\n",
    "nb_classes  = y_train.shape[1]  # 아웃풋 개수 \n",
    "nb_features = x_train.shape[1] # 뉴런갯수\n",
    "print(nb_classes, nb_features)\n",
    "\n",
    "# training HyperParameters\n",
    "learning_rate  = 0.00001 # 0.01더 곱해봄\n",
    "batch_size     = 128 # 128\n",
    "epochs         = 100\n",
    "\n",
    "# network hyperparameters\n",
    "n_hidden_1 = 7 # 1st layer number of neurons.\n",
    "n_hidden_2 = 7 # 2nd layer number of neurons.\n",
    "\n",
    "n_train = x_train.shape[0] \n",
    "n_test  = x_test.shape[0] "
   ]
  },
  {
   "cell_type": "code",
   "execution_count": null,
   "metadata": {
    "colab": {
     "base_uri": "https://localhost:8080/"
    },
    "id": "MTcTgS__ASdj",
    "outputId": "a7fccc98-ce65-4619-b005-0d1066e40581"
   },
   "outputs": [
    {
     "name": "stdout",
     "output_type": "stream",
     "text": [
      "Model: \"sequential_1\"\n",
      "_________________________________________________________________\n",
      " Layer (type)                Output Shape              Param #   \n",
      "=================================================================\n",
      " dense_3 (Dense)             (None, 7)                 35        \n",
      "                                                                 \n",
      " dense_4 (Dense)             (None, 7)                 56        \n",
      "                                                                 \n",
      " dense_5 (Dense)             (None, 1)                 8         \n",
      "                                                                 \n",
      "=================================================================\n",
      "Total params: 99\n",
      "Trainable params: 99\n",
      "Non-trainable params: 0\n",
      "_________________________________________________________________\n"
     ]
    }
   ],
   "source": [
    "model = Sequential()  # 모델선언\n",
    "model.add(Dense(units = n_hidden_1, activation='sigmoid', input_shape=(nb_features,)))   # neuron, input column개수\n",
    "model.add(Dense(n_hidden_2, activation='sigmoid'))\n",
    "model.add(Dense(nb_classes, activation='sigmoid'))   # ouput column개수\n",
    "model.summary()"
   ]
  },
  {
   "cell_type": "code",
   "execution_count": null,
   "metadata": {
    "id": "lBy1GrHDAkOq"
   },
   "outputs": [],
   "source": [
    "model.compile(loss='binary_crossentropy',   # y = not one-hot encoding but number\n",
    "              optimizer='adam', \n",
    "              metrics=['accuracy'])"
   ]
  },
  {
   "cell_type": "code",
   "execution_count": null,
   "metadata": {
    "colab": {
     "base_uri": "https://localhost:8080/"
    },
    "id": "0AL3MiZ0A6Pw",
    "outputId": "b1aa3f68-b44c-487c-d018-e825bb718205"
   },
   "outputs": [
    {
     "name": "stdout",
     "output_type": "stream",
     "text": [
      "Epoch 1/10\n",
      "1054/1054 [==============================] - 60s 57ms/step - loss: 0.6307 - accuracy: 0.6531 - val_loss: 0.6503 - val_accuracy: 0.5524\n",
      "Epoch 2/10\n",
      "1054/1054 [==============================] - 4s 4ms/step - loss: 0.5804 - accuracy: 0.7175 - val_loss: 0.6239 - val_accuracy: 0.7389\n",
      "Epoch 3/10\n",
      "1054/1054 [==============================] - 4s 4ms/step - loss: 0.5444 - accuracy: 0.7629 - val_loss: 0.6869 - val_accuracy: 0.7432\n",
      "Epoch 4/10\n",
      "1054/1054 [==============================] - 4s 4ms/step - loss: 0.5262 - accuracy: 0.7749 - val_loss: 0.7551 - val_accuracy: 0.7347\n",
      "Epoch 5/10\n",
      "1054/1054 [==============================] - 4s 4ms/step - loss: 0.5125 - accuracy: 0.7834 - val_loss: 0.7916 - val_accuracy: 0.7406\n",
      "Epoch 6/10\n",
      "1054/1054 [==============================] - 4s 4ms/step - loss: 0.4979 - accuracy: 0.7926 - val_loss: 0.8179 - val_accuracy: 0.7545\n",
      "Epoch 7/10\n",
      "1054/1054 [==============================] - 4s 4ms/step - loss: 0.4814 - accuracy: 0.8030 - val_loss: 0.8535 - val_accuracy: 0.7525\n",
      "Epoch 8/10\n",
      "1054/1054 [==============================] - 4s 4ms/step - loss: 0.4632 - accuracy: 0.8144 - val_loss: 0.8660 - val_accuracy: 0.7679\n",
      "Epoch 9/10\n",
      "1054/1054 [==============================] - 4s 4ms/step - loss: 0.4405 - accuracy: 0.8279 - val_loss: 0.9083 - val_accuracy: 0.7709\n",
      "Epoch 10/10\n",
      "1054/1054 [==============================] - 4s 4ms/step - loss: 0.4115 - accuracy: 0.8446 - val_loss: 0.8990 - val_accuracy: 0.7951\n"
     ]
    }
   ],
   "source": [
    "history = model.fit(x_train, y_train,\n",
    "                    batch_size=batch_size,\n",
    "                    epochs=10,\n",
    "                    verbose=1, #출력값 type / default 값은 2\n",
    "                    validation_data=(x_val, y_val))"
   ]
  },
  {
   "cell_type": "code",
   "execution_count": null,
   "metadata": {
    "colab": {
     "base_uri": "https://localhost:8080/"
    },
    "id": "BUmdnk9EDbBi",
    "outputId": "48a8fdce-a6e0-47c6-fb0d-d900c1eff69c"
   },
   "outputs": [
    {
     "name": "stdout",
     "output_type": "stream",
     "text": [
      "1318/1318 [==============================] - 2s 1ms/step\n"
     ]
    }
   ],
   "source": [
    "y_pred = model.predict(x_test)"
   ]
  },
  {
   "cell_type": "code",
   "execution_count": null,
   "metadata": {
    "colab": {
     "base_uri": "https://localhost:8080/"
    },
    "id": "CkF3W89AEQ-3",
    "outputId": "7f624ba4-2131-4af1-8a87-6a88e29fc723"
   },
   "outputs": [
    {
     "data": {
      "text/plain": [
       "array([[0.28343153],\n",
       "       [0.28343153],\n",
       "       [0.28343153],\n",
       "       ...,\n",
       "       [0.999997  ],\n",
       "       [0.999997  ],\n",
       "       [0.999997  ]], dtype=float32)"
      ]
     },
     "execution_count": 49,
     "metadata": {},
     "output_type": "execute_result"
    }
   ],
   "source": [
    "y_pred"
   ]
  },
  {
   "cell_type": "code",
   "execution_count": null,
   "metadata": {
    "id": "XPmZck3UEd2S"
   },
   "outputs": [],
   "source": [
    "y_pr = []\n",
    "for i in y_pred:\n",
    "  if i >= 0.5:\n",
    "    y_pr.append(1)\n",
    "  else:\n",
    "    y_pr.append(0)"
   ]
  },
  {
   "cell_type": "code",
   "execution_count": null,
   "metadata": {
    "id": "pUPSi7n-E_k4"
   },
   "outputs": [],
   "source": [
    "y_pr = np.asarray(y_pr)"
   ]
  },
  {
   "cell_type": "code",
   "execution_count": null,
   "metadata": {
    "colab": {
     "base_uri": "https://localhost:8080/"
    },
    "id": "XthsApxcFD_b",
    "outputId": "de5cdfa1-266f-4818-cd08-fba51cc829f4"
   },
   "outputs": [
    {
     "name": "stdout",
     "output_type": "stream",
     "text": [
      "accuracy_score :  0.7253427581953603\n"
     ]
    }
   ],
   "source": [
    "# 정확도 출력\n",
    "acc = accuracy_score(y_test, y_pr)\n",
    "print('accuracy_score : ',acc)"
   ]
  },
  {
   "cell_type": "code",
   "execution_count": null,
   "metadata": {
    "colab": {
     "base_uri": "https://localhost:8080/",
     "height": 279
    },
    "id": "xxg-gp31CBe2",
    "outputId": "74135cfa-36e2-40a5-caff-12cba137c47d"
   },
   "outputs": [
    {
     "data": {
      "image/png": "[encoded data removed]",
      "text/plain": [
       "<Figure size 432x288 with 1 Axes>"
      ]
     },
     "metadata": {
      "needs_background": "light"
     },
     "output_type": "display_data"
    }
   ],
   "source": [
    "# 5. 모델 학습 과정 표시하기\n",
    "plt.plot(history.history['loss'],     label = 'train loss')\n",
    "plt.plot(history.history['val_loss'], label = 'val loss')\n",
    "plt.xlabel('the number of learning')\n",
    "plt.ylabel('cost')\n",
    "plt.legend()\n",
    "plt.show()"
   ]
  }
 ],
 "metadata": {
  "accelerator": "GPU",
  "colab": {
   "provenance": []
  },
  "gpuClass": "standard",
  "kernelspec": {
   "display_name": "Python 3",
   "name": "python3"
  },
  "language_info": {
   "name": "python"
  }
 },
 "nbformat": 4,
 "nbformat_minor": 0
}
