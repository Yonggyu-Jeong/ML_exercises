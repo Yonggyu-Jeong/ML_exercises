{
 "cells": [
  {
   "cell_type": "code",
   "execution_count": 99,
   "id": "f7a7dda2",
   "metadata": {},
   "outputs": [
    {
     "data": {
      "text/plain": [
       "((3601, 501), (1320, 501))"
      ]
     },
     "execution_count": 99,
     "metadata": {},
     "output_type": "execute_result"
    }
   ],
   "source": [
    "import numpy as np\n",
    "import matplotlib.pyplot as plt\n",
    "import seaborn as sns\n",
    "import pandas as pd\n",
    "import numpy as np\n",
    "#import graphviz\n",
    "import os\n",
    "\n",
    "from sklearn.model_selection import train_test_split\n",
    "import tensorflow as tf\n",
    "from tensorflow import keras\n",
    "from tensorflow.keras import layers\n",
    "from tensorflow.keras.models import Sequential\n",
    "from tensorflow.keras.layers import LSTM, Flatten, Dense, SimpleRNN\n",
    "from tensorflow.keras.callbacks import Callback, EarlyStopping, ModelCheckpoint, ReduceLROnPlateau\n",
    "from keras.layers import TimeDistributed\n",
    "\n",
    "df_test = pd.read_csv(\"C:\\\\Users\\\\YongGyu\\\\OneDrive - 한국산업기술대학교\\\\문서\\카카오톡 받은 파일\\\\FordA_TEST.csv\")\n",
    "df_train = pd.read_csv(\"C:\\\\Users\\\\YongGyu\\\\OneDrive - 한국산업기술대학교\\\\문서\\카카오톡 받은 파일\\\\FordA_TRAIN.csv\")\n",
    "df_train2 = pd.read_csv(\"C:\\\\Users\\\\YongGyu\\\\OneDrive - 한국산업기술대학교\\\\문서\\카카오톡 받은 파일\\\\train_normalization.csv\")\n",
    "\n",
    "df_train.shape, df_test.shape"
   ]
  },
  {
   "cell_type": "code",
   "execution_count": 100,
   "id": "faf72a27",
   "metadata": {},
   "outputs": [],
   "source": [
    "x_test = df_test.drop('target', axis=1)\n",
    "y_test = df_test['target']\n",
    "\n",
    "x_train = df_train.drop('target', axis=1)\n",
    "y_train = df_train['target'] \n",
    "y_train\n",
    "\n",
    "x2_train, x2_val, y2_train, y_val = train_test_split(x_train, y_train, test_size=0.2)"
   ]
  },
  {
   "cell_type": "code",
   "execution_count": 102,
   "id": "e1f050d6",
   "metadata": {},
   "outputs": [],
   "source": [
    "x_train_exp = np.expand_dims(x_train, -1)\n",
    "x_valid_exp = np.expand_dims(x2_val, -1)\n",
    "x_test_exp = np.expand_dims(x_test, -1)\n"
   ]
  },
  {
   "cell_type": "code",
   "execution_count": 103,
   "id": "c84cb3b3",
   "metadata": {},
   "outputs": [],
   "source": [
    "model.add(Flatten())\n",
    "model.add(Dense(128, activation='relu'))\n",
    "model.add(Dense(9, activation='softmax'))\n",
    "model.compile(loss='sparse_categorical_crossentropy', optimizer='adam', metrics=[\"sparse_categorical_crossentropy\"])"
   ]
  },
  {
   "cell_type": "code",
   "execution_count": 105,
   "id": "c43afee4",
   "metadata": {},
   "outputs": [
    {
     "name": "stdout",
     "output_type": "stream",
     "text": [
      "Epoch 1/10\n",
      "226/226 [==============================] - 62s 263ms/step - loss: 1.1282 - sparse_categorical_crossentropy: 1.1282\n",
      "Epoch 2/10\n",
      "226/226 [==============================] - 70s 312ms/step - loss: 0.7032 - sparse_categorical_crossentropy: 0.7032\n",
      "Epoch 3/10\n",
      "226/226 [==============================] - 59s 259ms/step - loss: 0.6973 - sparse_categorical_crossentropy: 0.6973\n",
      "Epoch 4/10\n",
      "226/226 [==============================] - 61s 270ms/step - loss: 0.6960 - sparse_categorical_crossentropy: 0.6960\n",
      "Epoch 5/10\n",
      "226/226 [==============================] - 53s 235ms/step - loss: 0.6954 - sparse_categorical_crossentropy: 0.6954\n",
      "Epoch 6/10\n",
      "226/226 [==============================] - 49s 217ms/step - loss: 0.6956 - sparse_categorical_crossentropy: 0.6956\n",
      "Epoch 7/10\n",
      "226/226 [==============================] - 55s 245ms/step - loss: 0.6950 - sparse_categorical_crossentropy: 0.6950\n",
      "Epoch 8/10\n",
      "226/226 [==============================] - 47s 206ms/step - loss: 0.6943 - sparse_categorical_crossentropy: 0.6943\n",
      "Epoch 9/10\n",
      "226/226 [==============================] - 44s 196ms/step - loss: 0.6958 - sparse_categorical_crossentropy: 0.6958\n",
      "Epoch 10/10\n",
      "226/226 [==============================] - 44s 197ms/step - loss: 0.6958 - sparse_categorical_crossentropy: 0.6958\n"
     ]
    }
   ],
   "source": [
    "history = model.fit(x_train_exp, y_train, batch_size=16, epochs=10, verbose=1)\n"
   ]
  },
  {
   "cell_type": "code",
   "execution_count": 91,
   "id": "dbca4da9",
   "metadata": {},
   "outputs": [
    {
     "name": "stdout",
     "output_type": "stream",
     "text": [
      "<keras.callbacks.History object at 0x00000290B7FA0760>\n"
     ]
    }
   ],
   "source": [
    "print(history)"
   ]
  },
  {
   "cell_type": "code",
   "execution_count": 7,
   "id": "5fadd7ea",
   "metadata": {},
   "outputs": [
    {
     "ename": "NameError",
     "evalue": "name 'save_path' is not defined",
     "output_type": "error",
     "traceback": [
      "\u001b[1;31m---------------------------------------------------------------------------\u001b[0m",
      "\u001b[1;31mNameError\u001b[0m                                 Traceback (most recent call last)",
      "\u001b[1;32m~\\AppData\\Local\\Temp/ipykernel_17268/2634724048.py\u001b[0m in \u001b[0;36m<module>\u001b[1;34m\u001b[0m\n\u001b[1;32m----> 1\u001b[1;33m \u001b[0mcallbacks\u001b[0m \u001b[1;33m=\u001b[0m \u001b[1;33m[\u001b[0m\u001b[0mModelCheckpoint\u001b[0m\u001b[1;33m(\u001b[0m\u001b[0msave_path\u001b[0m\u001b[1;33m)\u001b[0m\u001b[1;33m]\u001b[0m\u001b[1;33m\u001b[0m\u001b[1;33m\u001b[0m\u001b[0m\n\u001b[0m",
      "\u001b[1;31mNameError\u001b[0m: name 'save_path' is not defined"
     ]
    }
   ],
   "source": [
    "callbacks = [ModelCheckpoint(save_path)]"
   ]
  },
  {
   "cell_type": "code",
   "execution_count": null,
   "id": "6a758bc0",
   "metadata": {},
   "outputs": [],
   "source": []
  }
 ],
 "metadata": {
  "kernelspec": {
   "display_name": "Python 3 (ipykernel)",
   "language": "python",
   "name": "python3"
  },
  "language_info": {
   "codemirror_mode": {
    "name": "ipython",
    "version": 3
   },
   "file_extension": ".py",
   "mimetype": "text/x-python",
   "name": "python",
   "nbconvert_exporter": "python",
   "pygments_lexer": "ipython3",
   "version": "3.9.7"
  }
 },
 "nbformat": 4,
 "nbformat_minor": 5
}
